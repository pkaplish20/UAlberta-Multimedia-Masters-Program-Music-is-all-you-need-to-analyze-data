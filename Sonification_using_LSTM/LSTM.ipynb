{
 "cells": [
  {
   "cell_type": "code",
<<<<<<< HEAD
   "execution_count": 3,
=======
   "execution_count": 10,
>>>>>>> master
   "metadata": {},
   "outputs": [],
   "source": [
    "import torch\n",
    "import torch.nn as nn\n",
    "import numpy as np\n",
    "from torch.utils.data import DataLoader, TensorDataset\n",
    "import torch.nn.functional as F\n",
    "import torch.utils.tensorboard as tb\n",
    "from Preprocessing.preprocessing import PreprocessingTrainingData\n",
    "from torch.utils.data.sampler import SequentialSampler\n",
    "import seaborn as sns\n",
    "import matplotlib.pyplot as  plt\n",
    "import os\n",
    "import logging\n",
    "torch.set_printoptions(profile=\"full\")\n",
    "import pandas as pd"
   ]
  },
  {
   "cell_type": "code",
<<<<<<< HEAD
   "execution_count": 4,
=======
   "execution_count": 8,
>>>>>>> master
   "metadata": {},
   "outputs": [],
   "source": [
    "#static parameters\n",
    "train_batch_size = 170\n",
    "val_batch_size = 170\n",
    "sequence_length=50\n",
    "test_batch_size = 1\n",
    "input_size = 1\n",
    "hidden_size = 256\n",
    "num_layer = 2\n",
    "output_size = 38\n",
    "clip = 3"
   ]
  },
  {
   "cell_type": "code",
<<<<<<< HEAD
   "execution_count": 5,
=======
   "execution_count": null,
   "metadata": {},
   "outputs": [],
   "source": []
  },
  {
   "cell_type": "code",
   "execution_count": 11,
>>>>>>> master
   "metadata": {},
   "outputs": [
    {
     "ename": "FileNotFoundError",
     "evalue": "[Errno 2] No such file or directory: 'D:\\\\Prem\\\\Sem1\\\\MM in AI\\\\Project\\\\Project\\\\Sonification-using-Deep-Learning\\\\Sonification_using_LSTM\\\\A.txt'",
     "output_type": "error",
     "traceback": [
      "\u001b[1;31m---------------------------------------------------------------------------\u001b[0m",
      "\u001b[1;31mFileNotFoundError\u001b[0m                         Traceback (most recent call last)",
      "\u001b[1;32m<ipython-input-11-46e720410816>\u001b[0m in \u001b[0;36m<module>\u001b[1;34m\u001b[0m\n\u001b[0;32m      1\u001b[0m \u001b[1;31m#get data from preprocessing.py\u001b[0m\u001b[1;33m\u001b[0m\u001b[1;33m\u001b[0m\u001b[1;33m\u001b[0m\u001b[0m\n\u001b[0;32m      2\u001b[0m \u001b[0mdataset_path\u001b[0m \u001b[1;33m=\u001b[0m \u001b[0mos\u001b[0m\u001b[1;33m.\u001b[0m\u001b[0mpath\u001b[0m\u001b[1;33m.\u001b[0m\u001b[0mjoin\u001b[0m\u001b[1;33m(\u001b[0m\u001b[0mos\u001b[0m\u001b[1;33m.\u001b[0m\u001b[0mpath\u001b[0m\u001b[1;33m.\u001b[0m\u001b[0mabspath\u001b[0m\u001b[1;33m(\u001b[0m\u001b[1;34m'..'\u001b[0m\u001b[1;33m)\u001b[0m\u001b[1;33m,\u001b[0m\u001b[1;34m'Dataset\\\\Clementi dataset\\\\Clementi dataset'\u001b[0m \u001b[1;33m)\u001b[0m\u001b[1;33m\u001b[0m\u001b[1;33m\u001b[0m\u001b[0m\n\u001b[1;32m----> 3\u001b[1;33m \u001b[0mnetwork_input\u001b[0m\u001b[1;33m,\u001b[0m\u001b[0mnetwork_output\u001b[0m\u001b[1;33m,\u001b[0m\u001b[0mmax_midi_number\u001b[0m\u001b[1;33m,\u001b[0m\u001b[0mmin_midi_number\u001b[0m\u001b[1;33m,\u001b[0m\u001b[0mint_to_note\u001b[0m \u001b[1;33m=\u001b[0m \u001b[0mPreprocessingTrainingData\u001b[0m\u001b[1;33m(\u001b[0m\u001b[1;33m)\u001b[0m\u001b[1;33m.\u001b[0m\u001b[0mpreprocess_notes\u001b[0m\u001b[1;33m(\u001b[0m\u001b[0mdataset_path\u001b[0m\u001b[1;33m)\u001b[0m\u001b[1;33m\u001b[0m\u001b[1;33m\u001b[0m\u001b[0m\n\u001b[0m\u001b[0;32m      4\u001b[0m \u001b[0mnetwork_input\u001b[0m\u001b[1;33m,\u001b[0m \u001b[0mnetwork_output\u001b[0m \u001b[1;33m=\u001b[0m \u001b[0mnetwork_input\u001b[0m\u001b[1;33m.\u001b[0m\u001b[0mcuda\u001b[0m\u001b[1;33m(\u001b[0m\u001b[1;33m)\u001b[0m\u001b[1;33m,\u001b[0m \u001b[0mnetwork_output\u001b[0m\u001b[1;33m.\u001b[0m\u001b[0mcuda\u001b[0m\u001b[1;33m(\u001b[0m\u001b[1;33m)\u001b[0m\u001b[1;33m\u001b[0m\u001b[1;33m\u001b[0m\u001b[0m\n\u001b[0;32m      5\u001b[0m \u001b[1;33m\u001b[0m\u001b[0m\n",
      "\u001b[1;32m~\\Downloads\\Github Repos\\SonificationML\\Sonification_using_LSTM\\Preprocessing\\preprocessing.py\u001b[0m in \u001b[0;36mpreprocess_notes\u001b[1;34m(self, path)\u001b[0m\n\u001b[0;32m    161\u001b[0m             \u001b[0mnotes\u001b[0m\u001b[1;33m.\u001b[0m\u001b[0mappend\u001b[0m\u001b[1;33m(\u001b[0m\u001b[0mself\u001b[0m\u001b[1;33m.\u001b[0m\u001b[0mextract_notes\u001b[0m\u001b[1;33m(\u001b[0m\u001b[0mpath\u001b[0m\u001b[1;33m)\u001b[0m\u001b[1;33m)\u001b[0m\u001b[1;33m\u001b[0m\u001b[1;33m\u001b[0m\u001b[0m\n\u001b[0;32m    162\u001b[0m         \u001b[0mnumber_of_output_notes\u001b[0m\u001b[1;33m=\u001b[0m\u001b[0mself\u001b[0m\u001b[1;33m.\u001b[0m\u001b[0mnumber_of_output_notes_generated\u001b[0m\u001b[1;33m(\u001b[0m\u001b[0mnotes\u001b[0m\u001b[1;33m)\u001b[0m\u001b[1;33m\u001b[0m\u001b[1;33m\u001b[0m\u001b[0m\n\u001b[1;32m--> 163\u001b[1;33m         \u001b[0mnetwork_input\u001b[0m\u001b[1;33m,\u001b[0m\u001b[0mnetwork_output\u001b[0m\u001b[1;33m,\u001b[0m\u001b[0mmax_midi_number\u001b[0m\u001b[1;33m,\u001b[0m\u001b[0mmin_midi_number\u001b[0m\u001b[1;33m,\u001b[0m\u001b[0mint_to_note\u001b[0m\u001b[1;33m=\u001b[0m\u001b[0mself\u001b[0m\u001b[1;33m.\u001b[0m\u001b[0mgenerate_training_data\u001b[0m\u001b[1;33m(\u001b[0m\u001b[0mnotes\u001b[0m\u001b[1;33m)\u001b[0m\u001b[1;33m\u001b[0m\u001b[1;33m\u001b[0m\u001b[0m\n\u001b[0m\u001b[0;32m    164\u001b[0m         \u001b[1;32mfor\u001b[0m \u001b[0mi\u001b[0m \u001b[1;32min\u001b[0m \u001b[0mrange\u001b[0m\u001b[1;33m(\u001b[0m\u001b[0mlen\u001b[0m\u001b[1;33m(\u001b[0m\u001b[0mnetwork_input\u001b[0m\u001b[1;33m)\u001b[0m\u001b[1;33m)\u001b[0m\u001b[1;33m:\u001b[0m\u001b[1;33m\u001b[0m\u001b[1;33m\u001b[0m\u001b[0m\n\u001b[0;32m    165\u001b[0m             \u001b[1;32mfor\u001b[0m \u001b[0mj\u001b[0m \u001b[1;32min\u001b[0m \u001b[0mrange\u001b[0m\u001b[1;33m(\u001b[0m\u001b[0mlen\u001b[0m\u001b[1;33m(\u001b[0m\u001b[0mnetwork_input\u001b[0m\u001b[1;33m[\u001b[0m\u001b[0mi\u001b[0m\u001b[1;33m]\u001b[0m\u001b[1;33m)\u001b[0m\u001b[1;33m)\u001b[0m\u001b[1;33m:\u001b[0m\u001b[1;33m\u001b[0m\u001b[1;33m\u001b[0m\u001b[0m\n",
      "\u001b[1;32m~\\Downloads\\Github Repos\\SonificationML\\Sonification_using_LSTM\\Preprocessing\\preprocessing.py\u001b[0m in \u001b[0;36mgenerate_training_data\u001b[1;34m(self, notes)\u001b[0m\n\u001b[0;32m    110\u001b[0m         \u001b[0mright_hand_notes\u001b[0m \u001b[1;33m=\u001b[0m \u001b[0msorted\u001b[0m\u001b[1;33m(\u001b[0m\u001b[0mset\u001b[0m\u001b[1;33m(\u001b[0m\u001b[0mitem\u001b[0m \u001b[1;32mfor\u001b[0m \u001b[0mitem\u001b[0m \u001b[1;32min\u001b[0m \u001b[0mnotes_from_training_data\u001b[0m\u001b[1;33m)\u001b[0m\u001b[1;33m)\u001b[0m\u001b[1;33m\u001b[0m\u001b[1;33m\u001b[0m\u001b[0m\n\u001b[0;32m    111\u001b[0m         \u001b[1;31m#Get note to midi number mapping\u001b[0m\u001b[1;33m\u001b[0m\u001b[1;33m\u001b[0m\u001b[1;33m\u001b[0m\u001b[0m\n\u001b[1;32m--> 112\u001b[1;33m         \u001b[0mnote_to_midi_number_mapping\u001b[0m\u001b[1;33m=\u001b[0m\u001b[0mMidiNotesMapping\u001b[0m\u001b[1;33m(\u001b[0m\u001b[1;33m)\u001b[0m\u001b[1;33m.\u001b[0m\u001b[0mget_midi_number_notes_mapping\u001b[0m\u001b[1;33m(\u001b[0m\u001b[1;34m\"D:\\\\Prem\\\\Sem1\\\\MM in AI\\\\Project\\\\Project\\\\Sonification-using-Deep-Learning\\\\Sonification_using_LSTM\\\\A.txt\"\u001b[0m\u001b[1;33m)\u001b[0m\u001b[1;33m\u001b[0m\u001b[1;33m\u001b[0m\u001b[0m\n\u001b[0m\u001b[0;32m    113\u001b[0m         \u001b[1;31m#Get maximum and minimum midi number values\u001b[0m\u001b[1;33m\u001b[0m\u001b[1;33m\u001b[0m\u001b[1;33m\u001b[0m\u001b[0m\n\u001b[0;32m    114\u001b[0m         \u001b[0m_\u001b[0m\u001b[1;33m,\u001b[0m\u001b[0mint_to_note\u001b[0m\u001b[1;33m,\u001b[0m\u001b[0mmax_midi_value\u001b[0m\u001b[1;33m,\u001b[0m\u001b[0mmin_midi_value\u001b[0m\u001b[1;33m=\u001b[0m\u001b[0mMidiClassMapping\u001b[0m\u001b[1;33m(\u001b[0m\u001b[1;33m)\u001b[0m\u001b[1;33m.\u001b[0m\u001b[0mmidi_notes_to_class_mapping\u001b[0m\u001b[1;33m(\u001b[0m\u001b[0mright_hand_notes\u001b[0m\u001b[1;33m,\u001b[0m\u001b[0mnote_to_midi_number_mapping\u001b[0m\u001b[1;33m)\u001b[0m\u001b[1;33m\u001b[0m\u001b[1;33m\u001b[0m\u001b[0m\n",
      "\u001b[1;32m~\\Downloads\\Github Repos\\SonificationML\\Sonification_using_LSTM\\util\\midi_notes_mapping.py\u001b[0m in \u001b[0;36mget_midi_number_notes_mapping\u001b[1;34m(self, file_name)\u001b[0m\n\u001b[0;32m      3\u001b[0m     \u001b[1;32mdef\u001b[0m \u001b[0mget_midi_number_notes_mapping\u001b[0m\u001b[1;33m(\u001b[0m\u001b[0mself\u001b[0m\u001b[1;33m,\u001b[0m\u001b[0mfile_name\u001b[0m\u001b[1;33m)\u001b[0m\u001b[1;33m:\u001b[0m\u001b[1;33m\u001b[0m\u001b[1;33m\u001b[0m\u001b[0m\n\u001b[0;32m      4\u001b[0m         \u001b[0mnote_to_midi_mapping\u001b[0m \u001b[1;33m=\u001b[0m \u001b[1;33m{\u001b[0m\u001b[1;33m}\u001b[0m\u001b[1;33m\u001b[0m\u001b[1;33m\u001b[0m\u001b[0m\n\u001b[1;32m----> 5\u001b[1;33m         \u001b[1;32mwith\u001b[0m \u001b[0mopen\u001b[0m\u001b[1;33m(\u001b[0m\u001b[0mfile_name\u001b[0m\u001b[1;33m)\u001b[0m \u001b[1;32mas\u001b[0m \u001b[0mf\u001b[0m\u001b[1;33m:\u001b[0m\u001b[1;33m\u001b[0m\u001b[1;33m\u001b[0m\u001b[0m\n\u001b[0m\u001b[0;32m      6\u001b[0m             \u001b[1;32mfor\u001b[0m \u001b[0mline\u001b[0m \u001b[1;32min\u001b[0m \u001b[0mf\u001b[0m\u001b[1;33m:\u001b[0m\u001b[1;33m\u001b[0m\u001b[1;33m\u001b[0m\u001b[0m\n\u001b[0;32m      7\u001b[0m                 \u001b[1;33m(\u001b[0m\u001b[0mmidi_value\u001b[0m\u001b[1;33m,\u001b[0m \u001b[0mnotes\u001b[0m\u001b[1;33m)\u001b[0m \u001b[1;33m=\u001b[0m \u001b[0mline\u001b[0m\u001b[1;33m.\u001b[0m\u001b[0msplit\u001b[0m\u001b[1;33m(\u001b[0m\u001b[1;33m)\u001b[0m\u001b[1;33m\u001b[0m\u001b[1;33m\u001b[0m\u001b[0m\n",
      "\u001b[1;31mFileNotFoundError\u001b[0m: [Errno 2] No such file or directory: 'D:\\\\Prem\\\\Sem1\\\\MM in AI\\\\Project\\\\Project\\\\Sonification-using-Deep-Learning\\\\Sonification_using_LSTM\\\\A.txt'"
     ]
    }
   ],
   "source": [
    "#get data from preprocessing.py\n",
    "dataset_path = os.path.join(os.path.abspath('..'),'Dataset\\\\Clementi dataset\\\\Clementi dataset' )\n",
    "network_input,network_output,max_midi_number,min_midi_number,int_to_note = PreprocessingTrainingData().preprocess_notes(dataset_path)\n",
    "network_input, network_output = network_input.cuda(), network_output.cuda()\n",
    "\n",
    "# print(network_input)\n",
    "#print(network_output)"
   ]
  },
  {
   "cell_type": "code",
   "execution_count": 6,
   "metadata": {},
   "outputs": [
    {
     "name": "stdout",
     "output_type": "stream",
     "text": [
      "tensor(37, device='cuda:0')\n",
      "tensor(0, device='cuda:0')\n"
     ]
    }
   ],
   "source": [
    "print(network_output.max())\n",
    "print(network_output.min())"
   ]
  },
  {
   "cell_type": "code",
   "execution_count": 7,
   "metadata": {},
   "outputs": [
    {
     "data": {
      "text/plain": [
       "torch.Size([8617])"
      ]
     },
     "execution_count": 7,
     "metadata": {},
     "output_type": "execute_result"
    }
   ],
   "source": [
    "network_output.shape"
   ]
  },
  {
   "cell_type": "code",
   "execution_count": 8,
   "metadata": {},
   "outputs": [
    {
     "name": "stdout",
     "output_type": "stream",
     "text": [
      "tensor(1., device='cuda:0')\n",
      "tensor(0., device='cuda:0')\n",
      "89\n",
      "50\n",
      "{0: 50, 1: 52, 2: 53, 3: 54, 4: 55, 5: 56, 6: 57, 7: 58, 8: 59, 9: 60, 10: 61, 11: 62, 12: 63, 13: 64, 14: 65, 15: 66, 16: 67, 17: 68, 18: 69, 19: 70, 20: 71, 21: 72, 22: 73, 23: 74, 24: 75, 25: 76, 26: 77, 27: 78, 28: 79, 29: 80, 30: 81, 31: 82, 32: 83, 33: 84, 34: 85, 35: 86, 36: 88, 37: 89}\n"
     ]
    }
   ],
   "source": [
    "print(network_input.max())\n",
    "print(network_input.min())\n",
    "print(max_midi_number)\n",
    "print(min_midi_number)\n",
    "print(int_to_note)"
   ]
  },
  {
   "cell_type": "code",
   "execution_count": 9,
   "metadata": {},
   "outputs": [
    {
     "data": {
      "text/plain": [
       "torch.Size([8617, 50, 1])"
      ]
     },
     "execution_count": 9,
     "metadata": {},
     "output_type": "execute_result"
    }
   ],
   "source": [
    "network_input.shape"
   ]
  },
  {
   "cell_type": "code",
   "execution_count": 10,
   "metadata": {},
   "outputs": [
    {
     "data": {
      "text/plain": [
       "'\\ndata is highly unbalanced\\n# '"
      ]
     },
     "execution_count": 10,
     "metadata": {},
     "output_type": "execute_result"
    }
   ],
   "source": [
    "'''\n",
    "data is highly unbalanced\n",
    "# '''\n",
    "# sns.distplot(torch.tensor(network_output).cpu())\n",
    "# xx = pd.DataFrame(torch.tensor(network_output).cpu())\n",
    "# xx.groupby(0).size().to_frame(name='values')"
   ]
  },
  {
   "cell_type": "code",
   "execution_count": 11,
   "metadata": {},
   "outputs": [
    {
     "name": "stdout",
     "output_type": "stream",
     "text": [
      "torch.Size([8500, 50, 1])\n",
      "torch.Size([8500])\n"
     ]
    }
   ],
   "source": [
    "'''\n",
    "to make batch of equal sizes\n",
    "Quick Fix\n",
    "'''\n",
    "network_input = network_input[: -117]\n",
    "network_output = network_output[: -117]\n",
    "\n",
    "print(network_input.shape)\n",
    "print(network_output.shape)"
   ]
  },
  {
   "cell_type": "code",
   "execution_count": 12,
   "metadata": {},
   "outputs": [],
   "source": [
    "#network_input[0]"
   ]
  },
  {
   "cell_type": "code",
   "execution_count": 13,
   "metadata": {},
   "outputs": [],
   "source": [
    "'''\n",
    "create Stacked LSTM model\n",
    "'''\n",
    "class Stacked_LSTM(nn.Module):\n",
    "    def __init__(self,input_size, hidden_size, num_layers, output_size):\n",
    "        super().__init__()\n",
    "        \n",
    "        self.hidden_size = hidden_size\n",
    "        self.num_layers = num_layers\n",
    "        self.output_size = output_size\n",
    "\n",
    "        self.lstm = nn.LSTM(input_size = input_size, hidden_size = hidden_size, num_layers = num_layers, batch_first = True, dropout = 0.5)\n",
    "        \n",
    "        self.dropout = nn.Dropout(0.5)\n",
    "        self.linear = nn.Linear(hidden_size, output_size)\n",
    "        \n",
    "        \n",
    "    def forward(self, x, hidden,batch_size):\n",
    "        \n",
    "        output, hidden = self.lstm(x, hidden)        \n",
    "        #print(output.shape)\n",
    "        \n",
    "        # stack up lstm outputs\n",
    "        output = output.contiguous().view(-1, self.hidden_size)\n",
    "        #print(output.shape)\n",
    "        \n",
    "        output = self.dropout(output)\n",
    "        output = self.linear(output)\n",
    "        #print('Linear Output :-',output.shape)\n",
    "        \n",
    "        #output = F.softmax(output, dim = 1)\n",
    "        #print('SOFTMAX OUTPUT :--', output)\n",
    "        \n",
    "        \n",
    "        # reshape to be batch_size first\n",
    "        output = output.view(batch_size, -1)\n",
    "        #print('Reshape to batch size first :-',output.shape)\n",
    "        \n",
    "        output = output[:, -self.output_size:] # get last batch of labels\n",
    "        #print('Final Output :-',output)\n",
    "        #print('RESHAPE SIZE :-', output.shape)\n",
    "        \n",
    "        return output, hidden\n",
    "    \n",
    "    def hidden_init(self,batch_size):\n",
    "        \n",
    "        # Create two new tensors with sizes n_layers x batch_size x hidden_dim,\n",
    "        # initialized to zero, for hidden state and cell state of LSTM\n",
    "        weight = next(self.parameters()).data\n",
    "        \n",
    "        hidden = (weight.new(self.num_layers, batch_size, self.hidden_size).zero_().cuda(),\n",
    "          weight.new(self.num_layers, batch_size, self.hidden_size).zero_().cuda())\n",
    "        return hidden\n",
    "\n",
    "#initialize the weights of LSTM using Xavier initialization    \n",
    "def init_weights(m):\n",
    "    if type(m) == nn.Linear:\n",
    "        torch.nn.init.xavier_uniform_(m.weight)\n",
    "\n",
    "    "
   ]
  },
  {
   "cell_type": "code",
   "execution_count": null,
   "metadata": {},
   "outputs": [],
   "source": [
    "'''\n",
    "Divide the dataset into train/val \n",
    "'''\n",
    "train_size = 0.8\n",
    "indices = list(range(len(network_input)))\n",
    "split = int(np.floor(train_size*len(network_input)))\n",
    "train_idx, val_idx = indices[:split], indices[split:]\n",
    "\n",
    "train_sampler = SequentialSampler(train_idx)\n",
    "val_sampler = SequentialSampler(val_idx)\n",
    "\n",
    "dataset = TensorDataset(network_input,network_output)\n",
    "train_loader = DataLoader(dataset, batch_size= train_batch_size, sampler=train_sampler)\n",
    "val_loader = DataLoader(dataset, batch_size= val_batch_size,sampler= val_sampler)"
   ]
  },
  {
   "cell_type": "code",
   "execution_count": null,
   "metadata": {},
   "outputs": [],
   "source": []
  },
  {
   "cell_type": "code",
   "execution_count": null,
   "metadata": {},
   "outputs": [],
   "source": [
    "import torch.optim as optimizer\n",
    "\n",
    "model = Stacked_LSTM(input_size,hidden_size,num_layer,output_size)\n",
    "model.apply(init_weights)\n",
    "\n",
    "criterion = nn.CrossEntropyLoss()\n",
    "optimizer = optimizer.AdamW(model.parameters())\n",
    "#optimizer = optimizer.RMSprop(model.parameters(), lr = 0.001, weight_decay = 0.01)\n",
    "\n",
    "\n",
    "#make sure to transfer model to GPU after initializing optimizer\n",
    "model.cuda()"
   ]
  },
  {
   "cell_type": "code",
   "execution_count": null,
   "metadata": {},
   "outputs": [],
   "source": [
    "optimizer"
   ]
  },
  {
   "cell_type": "code",
   "execution_count": null,
   "metadata": {
    "scrolled": true
   },
   "outputs": [],
   "source": [
    "epochs = 500\n",
    "min_val_loss = np.Inf\n",
    "\n",
    "for e in range(epochs):\n",
    "    \n",
    "    train_loss = 0\n",
    "    val_loss = 0\n",
    "    train_accuracy = 0\n",
    "    val_accuracy = 0\n",
    "    \n",
    "    \n",
    "    hidden = model.hidden_init(train_batch_size)    \n",
    "    #print('hidden[0].shape:- ',hidden[0].shape)\n",
    "    \n",
    "    for inputs,labels in train_loader:\n",
    "        #print(inputs.shape)\n",
    "\n",
    "        '''\n",
    "        Creating new variables for the hidden state, otherwise\n",
    "        we'd backprop through the entire training history\n",
    "        '''\n",
    "        h = tuple([each.data for each in hidden])\n",
    "        \n",
    "\n",
    "        # zero accumulated gradients\n",
    "        model.zero_grad()\n",
    "       \n",
    "        # get the output from the model\n",
    "        output, h = model.forward(inputs, h,train_batch_size)\n",
    "        #print('OUTPUT', output)\n",
    "        \n",
    "        \n",
    "        #print('Labels Shape :-', (torch.max(labels, 1)[1]).shape)\n",
    "    \n",
    "        # calculate the loss and perform backprop\n",
    "        #print('Labels Long :-', labels.long())\n",
    "        loss = criterion(output,labels.long())\n",
    "        #print('LOSS IS :-', loss)\n",
    "        \n",
    "        loss.backward()\n",
    "        \n",
    "        #calculate training accuracy\n",
    "        output = F.softmax(output, dim = 1)\n",
    "        top_p, top_class = output.topk(1, dim=1)\n",
    "        #logging.debug(' top probab {} top class {}'.format(top_p.view(-1, top_p.shape[0]), top_class.view(-1, top_p.shape[0])))\n",
    "\n",
    "        equals = top_class == labels.long().view(*top_class.shape)\n",
    "        train_accuracy += torch.mean(equals.type(torch.FloatTensor)).item()\n",
    "        \n",
    "        # `clip_grad_norm` helps prevent the exploding gradient problem in RNNs / LSTMs.\n",
    "        #nn.utils.clip_grad_norm_(model.parameters(), clip)\n",
    "        optimizer.step()\n",
    "        \n",
    "        train_loss += loss.item()\n",
    "        #print(train_loss)\n",
    "              \n",
    "    model.eval()\n",
    "    for inputs, labels in val_loader:\n",
    "                \n",
    "        val_h = tuple([each.data for each in hidden])\n",
    "        \n",
    "        output, hidden = model.forward(inputs, val_h,val_batch_size)\n",
    "       \n",
    "        loss = criterion(output,labels.long())\n",
    "        \n",
    "        val_loss += loss.item()\n",
    "        \n",
    "        #calculate validation accuracy\n",
    "        output = F.softmax(output, dim = 1)\n",
    "        top_p, top_class = output.topk(1, dim=1)\n",
    "        \n",
    "        #logging.debug(output)\n",
    "        #logging.debug('VALIDATION top probab {} VALIDATION top class {}'.format(top_p.view(-1, top_p.shape[0]), top_class.view(-1, top_p.shape[0])))\n",
    "\n",
    "        #print('Top Class:- ',top_class)\n",
    "        equals = top_class == labels.long().view(*top_class.shape)\n",
    "        #print('Equals:- ', equals)\n",
    "        val_accuracy += torch.mean(equals.type(torch.FloatTensor)).item()\n",
    "        \n",
    "    model.train()\n",
    "    \n",
    "    #Averaging losses\n",
    "    train_loss = train_loss/len(train_loader)\n",
    "    val_loss = val_loss/len(val_loader)\n",
    "    val_accuracy = val_accuracy/len(val_loader)\n",
    "    train_accuracy = train_accuracy/len(train_loader)\n",
    "    \n",
    "    print('Epoch: {}\\tTrain Loss: {:.7f} \\tVal Loss:{:.7f} \\tTrain Acc: {:.7}% \\tVal Acc: {:.7f}%'.format(e, train_loss, val_loss, train_accuracy*100,val_accuracy*100))\n",
    "    \n",
    "    #saving the model if validation loss is decreased\n",
    "    if val_loss <= min_val_loss:\n",
    "        print('Validation Loss decreased from {:6f} to {:6f}, saving the model weights'.format(min_val_loss, val_loss))\n",
    "        torch.save(model.state_dict(), 'lstm_state_256_hidden_size_orignal.pt')\n",
    "        min_val_loss = val_loss"
   ]
  },
  {
   "cell_type": "markdown",
   "metadata": {},
   "source": [
    "#### Music Genaration\n"
   ]
  },
  {
   "cell_type": "code",
   "execution_count": 14,
   "metadata": {},
   "outputs": [
    {
     "data": {
      "text/plain": [
       "Stacked_LSTM(\n",
       "  (lstm): LSTM(1, 256, num_layers=2, batch_first=True, dropout=0.5)\n",
       "  (dropout): Dropout(p=0.5, inplace=False)\n",
       "  (linear): Linear(in_features=256, out_features=38, bias=True)\n",
       ")"
      ]
     },
     "execution_count": 14,
     "metadata": {},
     "output_type": "execute_result"
    }
   ],
   "source": [
    "#load weights\n",
    "test_model = Stacked_LSTM(input_size,hidden_size,num_layer,output_size)\n",
    "test_model.load_state_dict(torch.load('lstm_state_256_hidden_size_orignal.pt'))\n",
    "test_model.cuda()\n",
    "test_model.eval()"
   ]
  },
  {
   "cell_type": "code",
   "execution_count": 15,
   "metadata": {},
   "outputs": [],
   "source": [
    "# #load population database\n",
    "# #testing_data = np.ones(200)*0\n",
    "# testing_data = list(range(50,90))\n",
    "# testing_data.extend(testing_data[::-1])\n",
    "# testing_data = np.asarray(testing_data)\n",
    "# testing_data = testing_data.reshape(testing_data.shape[0],1)\n",
    "\n",
    "# initial_seq = [network_input[0][1:].cpu().numpy().tolist()]"
   ]
  },
  {
   "cell_type": "code",
   "execution_count": 1,
   "metadata": {},
   "outputs": [
    {
     "ename": "NameError",
     "evalue": "name 'np' is not defined",
     "output_type": "error",
     "traceback": [
      "\u001b[1;31m---------------------------------------------------------------------------\u001b[0m",
      "\u001b[1;31mNameError\u001b[0m                                 Traceback (most recent call last)",
      "\u001b[1;32m<ipython-input-1-511e7e9afb24>\u001b[0m in \u001b[0;36m<module>\u001b[1;34m\u001b[0m\n\u001b[0;32m      8\u001b[0m \u001b[1;33m\u001b[0m\u001b[0m\n\u001b[0;32m      9\u001b[0m \u001b[1;33m\u001b[0m\u001b[0m\n\u001b[1;32m---> 10\u001b[1;33m \u001b[0mtesting_data\u001b[0m \u001b[1;33m=\u001b[0m \u001b[0mnp\u001b[0m\u001b[1;33m.\u001b[0m\u001b[0masarray\u001b[0m\u001b[1;33m(\u001b[0m\u001b[0mtesting_data\u001b[0m\u001b[1;33m)\u001b[0m\u001b[1;33m\u001b[0m\u001b[1;33m\u001b[0m\u001b[0m\n\u001b[0m\u001b[0;32m     11\u001b[0m \u001b[0mtesting_data\u001b[0m \u001b[1;33m=\u001b[0m \u001b[0mtesting_data\u001b[0m\u001b[1;33m.\u001b[0m\u001b[0mreshape\u001b[0m\u001b[1;33m(\u001b[0m\u001b[0mtesting_data\u001b[0m\u001b[1;33m.\u001b[0m\u001b[0mshape\u001b[0m\u001b[1;33m[\u001b[0m\u001b[1;36m0\u001b[0m\u001b[1;33m]\u001b[0m\u001b[1;33m,\u001b[0m\u001b[1;36m1\u001b[0m\u001b[1;33m)\u001b[0m\u001b[1;33m\u001b[0m\u001b[1;33m\u001b[0m\u001b[0m\n\u001b[0;32m     12\u001b[0m \u001b[1;33m\u001b[0m\u001b[0m\n",
      "\u001b[1;31mNameError\u001b[0m: name 'np' is not defined"
     ]
    }
   ],
   "source": [
    "#load population database\n",
    "#testing_data = np.ones(200)*1\n",
    "testing_data = list(range(50,90))\n",
    "testing_data.extend(testing_data[::-1])\n",
    "testing_data_rev = testing_data[::-1]\n",
    "testing_data_rev.extend(testing_data)\n",
    "testing_data = testing_data_rev\n",
    "\n",
    "\n",
    "testing_data = np.asarray(testing_data)\n",
    "testing_data = testing_data.reshape(testing_data.shape[0],1)\n",
    "\n",
    "initial_seq = [network_input[0][1:].cpu().numpy().tolist()]\n",
    "\n",
    "testing_data_unnorm = testing_data"
   ]
  },
  {
   "cell_type": "code",
   "execution_count": 2,
   "metadata": {},
   "outputs": [
    {
     "ename": "AttributeError",
     "evalue": "'list' object has no attribute 'tolist'",
     "output_type": "error",
     "traceback": [
      "\u001b[1;31m---------------------------------------------------------------------------\u001b[0m",
      "\u001b[1;31mAttributeError\u001b[0m                            Traceback (most recent call last)",
      "\u001b[1;32m<ipython-input-2-03b93d31e4c8>\u001b[0m in \u001b[0;36m<module>\u001b[1;34m\u001b[0m\n\u001b[0;32m      1\u001b[0m \u001b[0mlist1\u001b[0m\u001b[1;33m=\u001b[0m\u001b[1;33m[\u001b[0m\u001b[1;33m]\u001b[0m\u001b[1;33m\u001b[0m\u001b[1;33m\u001b[0m\u001b[0m\n\u001b[1;32m----> 2\u001b[1;33m \u001b[0mtesting_data\u001b[0m\u001b[1;33m=\u001b[0m\u001b[0mtesting_data\u001b[0m\u001b[1;33m.\u001b[0m\u001b[0mtolist\u001b[0m\u001b[1;33m(\u001b[0m\u001b[1;33m)\u001b[0m\u001b[1;33m\u001b[0m\u001b[1;33m\u001b[0m\u001b[0m\n\u001b[0m\u001b[0;32m      3\u001b[0m \u001b[1;32mfor\u001b[0m \u001b[0mi\u001b[0m \u001b[1;32min\u001b[0m \u001b[0mrange\u001b[0m\u001b[1;33m(\u001b[0m\u001b[0mlen\u001b[0m\u001b[1;33m(\u001b[0m\u001b[0mtesting_data\u001b[0m\u001b[1;33m)\u001b[0m\u001b[1;33m)\u001b[0m\u001b[1;33m:\u001b[0m\u001b[1;33m\u001b[0m\u001b[1;33m\u001b[0m\u001b[0m\n\u001b[0;32m      4\u001b[0m     \u001b[0mlist1\u001b[0m\u001b[1;33m.\u001b[0m\u001b[0mextend\u001b[0m\u001b[1;33m(\u001b[0m\u001b[0mtesting_data\u001b[0m\u001b[1;33m[\u001b[0m\u001b[0mi\u001b[0m\u001b[1;33m]\u001b[0m\u001b[1;33m)\u001b[0m\u001b[1;33m\u001b[0m\u001b[1;33m\u001b[0m\u001b[0m\n\u001b[0;32m      5\u001b[0m \u001b[1;33m\u001b[0m\u001b[0m\n",
      "\u001b[1;31mAttributeError\u001b[0m: 'list' object has no attribute 'tolist'"
     ]
    }
   ],
   "source": [
    "list1=[]\n",
    "testing_data=testing_data.tolist()\n",
    "for i in range(len(testing_data)):\n",
    "    list1.extend(testing_data[i])\n",
    "\n",
    "#list1\n",
    "\n",
    "for i in range(len(list1)):\n",
    "    #list1[i]=(list1[i]-50)/(89-50)\n",
    "    list1[i]=(list1[i])/(89)\n",
    "\n",
    "\n",
    "list1 = np.asarray(list1)\n",
    "list1 = list1.reshape(list1.shape[0],1)\n",
    "testing_data = list1\n",
    "#list1"
   ]
  },
  {
   "cell_type": "code",
   "execution_count": 33,
   "metadata": {},
   "outputs": [],
   "source": [
    "#testing_data"
   ]
  },
  {
   "cell_type": "code",
   "execution_count": 34,
   "metadata": {},
   "outputs": [],
   "source": [
    "#Predicting\n",
    "def prediction_with_influence(influence,int2note,initial_seq, max_note, test_batch_size = 1):\n",
    "\n",
    "    predicted_notes = []\n",
    "    initial_seq[0].extend([[0]]*len(testing_data))\n",
    "    test_seq = torch.Tensor(initial_seq).cuda()\n",
    "    \n",
    "    test_hidden = test_model.hidden_init(test_batch_size)\n",
    "\n",
    "    \n",
    "    for i in range(len(influence)):\n",
    "        \n",
    "        test_seq[0][sequence_length - 1 + i][0] = float(influence[i])\n",
    "        \n",
    "        test_slice = test_seq[0][i : i + sequence_length]        \n",
    "        test_slice = test_slice.view(1, test_slice.shape[0], test_slice.shape[1])\n",
    "        \n",
    "        test_output,_ = test_model.forward(test_slice, test_hidden, test_batch_size)\n",
    "    \n",
    "        top_p, top_class = test_output.topk(1,dim =1)\n",
    "        test_seq[0][sequence_length - 1 + i][0] = int2note[top_class.item()]/max_note\n",
    "        \n",
    "        predicted_notes.append(int2note[top_class.item()])\n",
    "        \n",
    "    return predicted_notes"
   ]
  },
  {
   "cell_type": "code",
   "execution_count": 35,
   "metadata": {},
   "outputs": [],
   "source": [
    "predicted_notes_lst = prediction_with_influence(testing_data,int_to_note,initial_seq, max_midi_number)"
   ]
  },
  {
   "cell_type": "code",
   "execution_count": 36,
   "metadata": {},
   "outputs": [],
   "source": [
    "#predicted_notes_lst"
   ]
  },
  {
   "cell_type": "code",
   "execution_count": 37,
   "metadata": {},
   "outputs": [
    {
     "data": {
      "text/plain": [
       "[<matplotlib.lines.Line2D at 0x297cb4143c8>]"
      ]
     },
     "execution_count": 37,
     "metadata": {},
     "output_type": "execute_result"
    },
    {
     "data": {
      "image/png": "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\n",
      "text/plain": [
       "<Figure size 432x288 with 1 Axes>"
      ]
     },
     "metadata": {
      "image/png": {
       "height": 248,
       "width": 369
      },
      "needs_background": "light"
     },
     "output_type": "display_data"
    }
   ],
   "source": [
    "import seaborn as sns\n",
    "import matplotlib.pyplot as plt\n",
    "\n",
    "#plt.plot(list(np.ones(200)*89))\n",
    "\n",
    "#plt.plot(list(np.ones(200)*50))\n",
    "#plt.plot(list(np.ones(20)*50))\n",
    "plt.plot(testing_data_unnorm)\n",
    "plt.plot(predicted_notes_lst)"
   ]
  },
  {
   "cell_type": "code",
   "execution_count": null,
   "metadata": {},
   "outputs": [],
   "source": [
    "from collections import Counter\n",
    "c = Counter(predicted_notes_lst)\n",
    "c"
   ]
  },
  {
   "cell_type": "code",
   "execution_count": null,
   "metadata": {},
   "outputs": [],
   "source": []
  },
  {
   "cell_type": "code",
   "execution_count": null,
   "metadata": {},
   "outputs": [],
   "source": []
  },
  {
   "cell_type": "code",
   "execution_count": null,
   "metadata": {},
   "outputs": [],
   "source": []
  }
 ],
 "metadata": {
  "file_extension": ".py",
  "kernelspec": {
   "display_name": "Python 3",
   "language": "python",
   "name": "python3"
  },
  "language_info": {
   "codemirror_mode": {
    "name": "ipython",
    "version": 3
   },
   "file_extension": ".py",
   "mimetype": "text/x-python",
   "name": "python",
   "nbconvert_exporter": "python",
   "pygments_lexer": "ipython3",
   "version": "3.6.9"
  },
  "mimetype": "text/x-python",
  "name": "python",
  "npconvert_exporter": "python",
  "pygments_lexer": "ipython3",
  "version": 3
 },
 "nbformat": 4,
 "nbformat_minor": 2
}
