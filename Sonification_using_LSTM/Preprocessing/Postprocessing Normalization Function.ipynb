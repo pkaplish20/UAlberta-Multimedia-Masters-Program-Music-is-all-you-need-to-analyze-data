{
 "cells": [
  {
   "cell_type": "code",
   "execution_count": 115,
   "metadata": {},
   "outputs": [],
   "source": [
    "import pandas as pd\n",
    "import numpy as np\n",
    "import sklearn.preprocessing\n",
    "import csv\n",
    "import os\n",
    "import math\n"
   ]
  },
  {
   "cell_type": "code",
   "execution_count": 154,
   "metadata": {},
   "outputs": [],
   "source": [
    "def Normalize(filepath, min_note, max_note):\n",
    "    \n",
    "    new_population_list = []\n",
    "    my_list=[]\n",
    "    normalized_list=[]\n",
    "    \n",
    "    \n",
    "    data = pd.read_csv(filepath)\n",
    "    df=pd.DataFrame(data)\n",
    "    df = df.drop(df.index[0:5])\n",
    "\n",
    "    \n",
    "    \n",
    "    population_value = df.iloc[:,1:2]\n",
    "    \n",
    "    my_list = df[\"population\"].values\n",
    "    #print(my_list)\n",
    "    \n",
    "    minimum_pop = my_list.min()\n",
    "    maximum_pop = my_list.max()\n",
    "    \n",
    "    OldRange = (maximum_pop - minimum_pop)  \n",
    "    NewRange = (max_note - min_note)\n",
    "    \n",
    "    for i in range(len(my_list)):\n",
    "        new_population_list.append(math.floor((((my_list[i] - minimum_pop) * NewRange) / OldRange) + min_note))\n",
    "    #print(new_population_list)\n",
    "    \n",
    "\n",
    "\n",
    "    for value in range(len(new_population_list)):\n",
    "        normalized_list.append((new_population_list[value] - min_note)/(max_note - min_note))\n",
    "    \n",
    "    return(normalized_list)\n",
    "    \n",
    "   \n",
    "    \n",
    "    \n",
    "    \n",
    "    \n",
    "    \n",
    "\n",
    "    "
   ]
  },
  {
   "cell_type": "code",
   "execution_count": null,
   "metadata": {},
   "outputs": [],
   "source": []
  },
  {
   "cell_type": "code",
   "execution_count": null,
   "metadata": {},
   "outputs": [],
   "source": []
  }
 ],
 "metadata": {
  "kernelspec": {
   "display_name": "Python 3",
   "language": "python",
   "name": "python3"
  },
  "language_info": {
   "codemirror_mode": {
    "name": "ipython",
    "version": 3
   },
   "file_extension": ".py",
   "mimetype": "text/x-python",
   "name": "python",
   "nbconvert_exporter": "python",
   "pygments_lexer": "ipython3",
   "version": "3.7.4"
  }
 },
 "nbformat": 4,
 "nbformat_minor": 2
}
